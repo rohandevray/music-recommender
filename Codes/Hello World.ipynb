{
 "cells": [
  {
   "cell_type": "code",
   "execution_count": 136,
   "id": "62e035ef",
   "metadata": {},
   "outputs": [],
   "source": [
    "import pandas as pd\n",
    "from sklearn.tree import DecisionTreeClassifier\n",
    "from sklearn import tree\n",
    "\n",
    "music_data= pd.read_csv('music.csv', encoding ='latin1')\n",
    "X = music_data.drop(columns=\"genre\") \n",
    "y = music_data[\"genre\"]\n",
    "\n",
    "model = DecisionTreeClassifier()\n",
    "model.fit(X,y) \n",
    "\n",
    "tree.export_graphviz(model, out_file=\"music-recommender.dot\",\n",
    "                     feature_names=[\"age\",\"gender\"],\n",
    "                     class_names=sorted(y.unique()),\n",
    "                     label =\"all\",\n",
    "                     rounded =True,\n",
    "                     filled =True)\n",
    "\n",
    "\n",
    "\n"
   ]
  },
  {
   "cell_type": "code",
   "execution_count": 137,
   "id": "ea624c43",
   "metadata": {},
   "outputs": [
    {
     "data": {
      "text/plain": [
       "1.0"
      ]
     },
     "execution_count": 137,
     "metadata": {},
     "output_type": "execute_result"
    }
   ],
   "source": [
    "import pandas as pd\n",
    "from sklearn.tree import DecisionTreeClassifier\n",
    "from sklearn.model_selection import train_test_split\n",
    "from sklearn.metrics import accuracy_score\n",
    "\n",
    "\n",
    "music_data= pd.read_csv('music.csv', encoding ='latin1')\n",
    "X = music_data.drop(columns=\"genre\") #dropped /removed the genre column and store it in new data set\n",
    "y = music_data[\"genre\"] #in music_data we make a separate data set that contains only genre column\n",
    "X_train, X_test , y_train , y_test = train_test_split(X , y , test_size=0.2) # we use only 20%of our data for testing\n",
    "\n",
    "model = DecisionTreeClassifier()\n",
    "model.fit(X_train,y_train) #X is input dataset and y is output dataset (fit() method takes 2 datasets) we pass for training of our model\n",
    "predictions = model.predict(X_test) # it predicts the datasets we puts in as per previous data we give it to our model on the rule of decision tree algo\n",
    "\n",
    "score =accuracy_score(y_test, predictions) # we comparing the y_test(the expexted value) and predictions(the actual value we get from testing input datasets)\n",
    "score"
   ]
  },
  {
   "cell_type": "code",
   "execution_count": 139,
   "id": "6a1771d1",
   "metadata": {},
   "outputs": [
    {
     "data": {
      "text/plain": [
       "array(['HipHop'], dtype=object)"
      ]
     },
     "execution_count": 139,
     "metadata": {},
     "output_type": "execute_result"
    }
   ],
   "source": [
    "import pandas as pd\n",
    "from sklearn.tree import DecisionTreeClassifier\n",
    "import joblib\n",
    "\n",
    "# #import the data\n",
    "# music_data= pd.read_csv('music.csv', encoding ='latin1')\n",
    "# X = music_data.drop(columns=\"genre\")\n",
    "# y = music_data[\"genre\"] \n",
    "# # model created\n",
    "# model = DecisionTreeClassifier()\n",
    "# #model training\n",
    "# model.fit(X,y)\n",
    "# #model persistance \n",
    "#it saves a trained model\n",
    "\n",
    "model = joblib.load('music-recommender.joblib')\n",
    "predictions = model.predict([[21,1]])\n",
    "predictions"
   ]
  },
  {
   "cell_type": "code",
   "execution_count": 141,
   "id": "00811ed4",
   "metadata": {},
   "outputs": [
    {
     "data": {
      "text/plain": [
       "array(['HipHop', 'Dance'], dtype=object)"
      ]
     },
     "execution_count": 141,
     "metadata": {},
     "output_type": "execute_result"
    }
   ],
   "source": [
    "import pandas as pd\n",
    "from sklearn.tree import DecisionTreeClassifier\n",
    "\n",
    "#import the data\n",
    "music_data= pd.read_csv('music.csv', encoding ='latin1')\n",
    "X = music_data.drop(columns=\"genre\")\n",
    "y = music_data[\"genre\"] \n",
    "# model created\n",
    "model = DecisionTreeClassifier()\n",
    "#model training\n",
    "model.fit(X,y)\n",
    "\n",
    "predictions = model.predict([[21,1],[22,0]])\n",
    "predictions"
   ]
  },
  {
   "cell_type": "code",
   "execution_count": null,
   "id": "f0b88dba",
   "metadata": {},
   "outputs": [],
   "source": []
  }
 ],
 "metadata": {
  "kernelspec": {
   "display_name": "Python 3 (ipykernel)",
   "language": "python",
   "name": "python3"
  },
  "language_info": {
   "codemirror_mode": {
    "name": "ipython",
    "version": 3
   },
   "file_extension": ".py",
   "mimetype": "text/x-python",
   "name": "python",
   "nbconvert_exporter": "python",
   "pygments_lexer": "ipython3",
   "version": "3.9.7"
  }
 },
 "nbformat": 4,
 "nbformat_minor": 5
}
